{
  "nbformat": 4,
  "nbformat_minor": 0,
  "metadata": {
    "colab": {
      "name": "Sklearn04.ipynb",
      "provenance": [],
      "collapsed_sections": [],
      "authorship_tag": "ABX9TyPEBCH3OJMkcURxENy9vfow",
      "include_colab_link": true
    },
    "kernelspec": {
      "name": "python3",
      "display_name": "Python 3"
    },
    "language_info": {
      "name": "python"
    }
  },
  "cells": [
    {
      "cell_type": "markdown",
      "metadata": {
        "id": "view-in-github",
        "colab_type": "text"
      },
      "source": [
        "<a href=\"https://colab.research.google.com/github/crzysab/CoffeShop-SMDB/blob/main/Sklearn04.ipynb\" target=\"_parent\"><img src=\"https://colab.research.google.com/assets/colab-badge.svg\" alt=\"Open In Colab\"/></a>"
      ]
    },
    {
      "cell_type": "markdown",
      "metadata": {
        "id": "RQ0cptJH-voV"
      },
      "source": [
        "**Simple Linear Regression dengan Scikit-Learn**\n",
        "\n",
        "___"
      ]
    },
    {
      "cell_type": "markdown",
      "metadata": {
        "id": "3ul6ELtT_B4q"
      },
      "source": [
        "Simple Linear Regression memodelkan hubungan antara sebuah response variable dengan sebuah explanatory variable sebagai suatu garis lurus"
      ]
    },
    {
      "cell_type": "markdown",
      "metadata": {
        "id": "mzKpfQNU_seq"
      },
      "source": [
        "Import Modules"
      ]
    },
    {
      "cell_type": "code",
      "metadata": {
        "id": "v24keaIBkYRU"
      },
      "source": [
        "import pandas as pd\n",
        "import matplotlib.pyplot as plt\n",
        "import numpy as np"
      ],
      "execution_count": 1,
      "outputs": []
    },
    {
      "cell_type": "markdown",
      "metadata": {
        "id": "Kce01Z--_2xe"
      },
      "source": [
        "Sample Dataset"
      ]
    },
    {
      "cell_type": "code",
      "metadata": {
        "colab": {
          "base_uri": "https://localhost:8080/",
          "height": 204
        },
        "id": "NRMSKEiF_4lo",
        "outputId": "b4b8f43a-e7ad-4e03-fc72-36684e025781"
      },
      "source": [
        "pizza = {'diameter' : [6, 8, 10, 14,18],\n",
        "         'harga' : [7, 9, 13, 17.5, 18]}\n",
        "\n",
        "#diameter berperan sebagai feature\n",
        "#harga berperan sebagai target\n",
        "\n",
        "pizza_df = pd.DataFrame(pizza)\n",
        "pizza_df"
      ],
      "execution_count": 2,
      "outputs": [
        {
          "output_type": "execute_result",
          "data": {
            "text/html": [
              "<div>\n",
              "<style scoped>\n",
              "    .dataframe tbody tr th:only-of-type {\n",
              "        vertical-align: middle;\n",
              "    }\n",
              "\n",
              "    .dataframe tbody tr th {\n",
              "        vertical-align: top;\n",
              "    }\n",
              "\n",
              "    .dataframe thead th {\n",
              "        text-align: right;\n",
              "    }\n",
              "</style>\n",
              "<table border=\"1\" class=\"dataframe\">\n",
              "  <thead>\n",
              "    <tr style=\"text-align: right;\">\n",
              "      <th></th>\n",
              "      <th>diameter</th>\n",
              "      <th>harga</th>\n",
              "    </tr>\n",
              "  </thead>\n",
              "  <tbody>\n",
              "    <tr>\n",
              "      <th>0</th>\n",
              "      <td>6</td>\n",
              "      <td>7.0</td>\n",
              "    </tr>\n",
              "    <tr>\n",
              "      <th>1</th>\n",
              "      <td>8</td>\n",
              "      <td>9.0</td>\n",
              "    </tr>\n",
              "    <tr>\n",
              "      <th>2</th>\n",
              "      <td>10</td>\n",
              "      <td>13.0</td>\n",
              "    </tr>\n",
              "    <tr>\n",
              "      <th>3</th>\n",
              "      <td>14</td>\n",
              "      <td>17.5</td>\n",
              "    </tr>\n",
              "    <tr>\n",
              "      <th>4</th>\n",
              "      <td>18</td>\n",
              "      <td>18.0</td>\n",
              "    </tr>\n",
              "  </tbody>\n",
              "</table>\n",
              "</div>"
            ],
            "text/plain": [
              "   diameter  harga\n",
              "0         6    7.0\n",
              "1         8    9.0\n",
              "2        10   13.0\n",
              "3        14   17.5\n",
              "4        18   18.0"
            ]
          },
          "metadata": {},
          "execution_count": 2
        }
      ]
    },
    {
      "cell_type": "markdown",
      "metadata": {
        "id": "2kFxejibAy3E"
      },
      "source": [
        "Visualisasi Dataset"
      ]
    },
    {
      "cell_type": "code",
      "metadata": {
        "colab": {
          "base_uri": "https://localhost:8080/",
          "height": 295
        },
        "id": "h4ov_UvSA8nH",
        "outputId": "41569b5a-05b0-4519-b7ed-5c277ee9d5e0"
      },
      "source": [
        "pizza_df.plot(kind='scatter', x='diameter', y='harga')\n",
        "\n",
        "plt.title('Perbandingan Diameter dan Harga Pizza')\n",
        "plt.xlabel('Diameter (inch)')\n",
        "plt.ylabel('Harga (dollar)')\n",
        "plt.xlim(0, 25)\n",
        "plt.ylim(0, 25)\n",
        "plt.grid(True)\n",
        "plt.show()\n"
      ],
      "execution_count": 3,
      "outputs": [
        {
          "output_type": "display_data",
          "data": {
            "image/png": "[encoded data removed]",
            "text/plain": [
              "<Figure size 432x288 with 1 Axes>"
            ]
          },
          "metadata": {
            "needs_background": "light"
          }
        }
      ]
    },
    {
      "cell_type": "markdown",
      "metadata": {
        "id": "L99ayhURLgIa"
      },
      "source": [
        "Penyesuaian Dataset"
      ]
    },
    {
      "cell_type": "code",
      "metadata": {
        "colab": {
          "base_uri": "https://localhost:8080/"
        },
        "id": "REjf1-XYLidb",
        "outputId": "fb63892e-1aa3-40a0-cdff-3518d6502b2a"
      },
      "source": [
        "X = np.array(pizza_df['diameter']) #feature\n",
        "y = np.array(pizza_df['harga']) #target\n",
        "\n",
        "print(f'X : {X}')\n",
        "print(f'y : {y}')"
      ],
      "execution_count": 5,
      "outputs": [
        {
          "output_type": "stream",
          "name": "stdout",
          "text": [
            "X : [ 6  8 10 14 18]\n",
            "y : [ 7.   9.  13.  17.5 18. ]\n"
          ]
        }
      ]
    },
    {
      "cell_type": "code",
      "metadata": {
        "colab": {
          "base_uri": "https://localhost:8080/"
        },
        "id": "A7-3o-EqML5R",
        "outputId": "e4174885-fd63-4131-a68f-3bb72a9f3435"
      },
      "source": [
        "#sklearn membutuhkan data feature berupa array dua dimensi\n",
        "X = X.reshape(-1,1)\n",
        "X.shape"
      ],
      "execution_count": 9,
      "outputs": [
        {
          "output_type": "execute_result",
          "data": {
            "text/plain": [
              "(5, 1)"
            ]
          },
          "metadata": {},
          "execution_count": 9
        }
      ]
    },
    {
      "cell_type": "code",
      "metadata": {
        "colab": {
          "base_uri": "https://localhost:8080/"
        },
        "id": "PhZS2QlEMS_7",
        "outputId": "6d7451eb-6f21-4e17-baea-6aab4e010d8d"
      },
      "source": [
        "X"
      ],
      "execution_count": 7,
      "outputs": [
        {
          "output_type": "execute_result",
          "data": {
            "text/plain": [
              "array([[ 6],\n",
              "       [ 8],\n",
              "       [10],\n",
              "       [14],\n",
              "       [18]])"
            ]
          },
          "metadata": {},
          "execution_count": 7
        }
      ]
    },
    {
      "cell_type": "markdown",
      "metadata": {
        "id": "n8CQgmLmMjVz"
      },
      "source": [
        "Training Simple Linear Regression"
      ]
    },
    {
      "cell_type": "code",
      "metadata": {
        "colab": {
          "base_uri": "https://localhost:8080/"
        },
        "id": "6vD3toTFMlgA",
        "outputId": "a9e626ad-48fa-4652-f523-84b529e86c84"
      },
      "source": [
        "from sklearn.linear_model import LinearRegression\n",
        "\n",
        "model = LinearRegression()\n",
        "model.fit(X,y)"
      ],
      "execution_count": 8,
      "outputs": [
        {
          "output_type": "execute_result",
          "data": {
            "text/plain": [
              "LinearRegression(copy_X=True, fit_intercept=True, n_jobs=None, normalize=False)"
            ]
          },
          "metadata": {},
          "execution_count": 8
        }
      ]
    },
    {
      "cell_type": "markdown",
      "metadata": {
        "id": "Lvno-w9CM7VV"
      },
      "source": [
        "Visualisasi Simple Linear Regression"
      ]
    },
    {
      "cell_type": "code",
      "metadata": {
        "id": "XQ39hzinNRES"
      },
      "source": [
        "X_vis = np.array([0,25]).reshape(-1,1)\n",
        "y_vis = model.predict(X_vis)"
      ],
      "execution_count": 10,
      "outputs": []
    },
    {
      "cell_type": "code",
      "metadata": {
        "colab": {
          "base_uri": "https://localhost:8080/",
          "height": 295
        },
        "id": "vT4eQ8LqNzr1",
        "outputId": "22be4b99-c33e-4ef5-cb75-8e064f30173f"
      },
      "source": [
        "plt.scatter(X,y)\n",
        "plt.plot(X_vis, y_vis, '-r')\n",
        "plt.title('Perbandingan Diameter dan Harga Pizza')\n",
        "plt.xlabel('Diameter (inch)')\n",
        "plt.ylabel('Harga (dollar)')\n",
        "plt.xlim(0, 25)\n",
        "plt.ylim(0, 25)\n",
        "plt.grid(True)\n",
        "plt.show()\n"
      ],
      "execution_count": 11,
      "outputs": [
        {
          "output_type": "display_data",
          "data": {
            "image/png": "[encoded data removed]",
            "text/plain": [
              "<Figure size 432x288 with 1 Axes>"
            ]
          },
          "metadata": {
            "needs_background": "light"
          }
        }
      ]
    },
    {
      "cell_type": "code",
      "metadata": {
        "colab": {
          "base_uri": "https://localhost:8080/"
        },
        "id": "AZ-lZlmbO8fv",
        "outputId": "f2288bd7-d841-42b0-9999-2df6d1025a4e"
      },
      "source": [
        "#intercept : ketika garis menambrak satu titik di sumbu y atau ketika x=0\n",
        "#slope : berpengaruh pada tingkat kemiringan garis\n",
        "\n",
        "print(f'intercept : {model.intercept_}')\n",
        "print(f'slope : {model.coef_}')"
      ],
      "execution_count": 12,
      "outputs": [
        {
          "output_type": "stream",
          "name": "stdout",
          "text": [
            "intercept : 1.965517241379315\n",
            "slope : [0.9762931]\n"
          ]
        }
      ]
    },
    {
      "cell_type": "markdown",
      "metadata": {
        "id": "l526spKkR42v"
      },
      "source": [
        "Mencari Nilai Slope"
      ]
    },
    {
      "cell_type": "code",
      "metadata": {
        "colab": {
          "base_uri": "https://localhost:8080/"
        },
        "id": "70de3M66R9i3",
        "outputId": "c51dca1b-8a15-413f-98d7-ba28b3ade294"
      },
      "source": [
        "print(f'X : \\n {X} \\n')\n",
        "print(f'X flatten : {X.flatten()}\\n')\n",
        "print(f'y : {y}')"
      ],
      "execution_count": 13,
      "outputs": [
        {
          "output_type": "stream",
          "name": "stdout",
          "text": [
            "X : \n",
            " [[ 6]\n",
            " [ 8]\n",
            " [10]\n",
            " [14]\n",
            " [18]] \n",
            "\n",
            "X flatten : [ 6  8 10 14 18]\n",
            "\n",
            "y : [ 7.   9.  13.  17.5 18. ]\n"
          ]
        }
      ]
    },
    {
      "cell_type": "markdown",
      "metadata": {
        "id": "GfUybowbSkOs"
      },
      "source": [
        "Variance"
      ]
    },
    {
      "cell_type": "code",
      "metadata": {
        "colab": {
          "base_uri": "https://localhost:8080/"
        },
        "id": "Hp6z25rSSU6w",
        "outputId": "b84c8e8b-0d97-4398-ebfe-edb59d21f303"
      },
      "source": [
        "variance_x = np.var(X.flatten(), ddof=1)\n",
        "#ddof : degree of freedom\n",
        "print(f'variance : {variance_x}')"
      ],
      "execution_count": 15,
      "outputs": [
        {
          "output_type": "stream",
          "name": "stdout",
          "text": [
            "variance : 23.2\n"
          ]
        }
      ]
    },
    {
      "cell_type": "markdown",
      "metadata": {
        "id": "ffbwj8QbTF5U"
      },
      "source": [
        "Covariance"
      ]
    },
    {
      "cell_type": "code",
      "metadata": {
        "colab": {
          "base_uri": "https://localhost:8080/"
        },
        "id": "QA5f8ktJTHtO",
        "outputId": "e16e7892-7b40-4aa1-9c24-57442e206d27"
      },
      "source": [
        "np.cov(X.flatten(), y)"
      ],
      "execution_count": 16,
      "outputs": [
        {
          "output_type": "execute_result",
          "data": {
            "text/plain": [
              "array([[23.2 , 22.65],\n",
              "       [22.65, 24.3 ]])"
            ]
          },
          "metadata": {},
          "execution_count": 16
        }
      ]
    },
    {
      "cell_type": "code",
      "metadata": {
        "colab": {
          "base_uri": "https://localhost:8080/"
        },
        "id": "w-IanLo7TPQ2",
        "outputId": "dd101fc0-5d7f-4e5c-afd8-9fba386d594c"
      },
      "source": [
        "covariance_xy = np.cov(X.flatten(), y)[0][1]\n",
        "print(f'covariance : {covariance_xy}')"
      ],
      "execution_count": 18,
      "outputs": [
        {
          "output_type": "stream",
          "name": "stdout",
          "text": [
            "covariance : 22.650000000000002\n"
          ]
        }
      ]
    },
    {
      "cell_type": "markdown",
      "metadata": {
        "id": "g4SsqmUSUEW1"
      },
      "source": [
        "Slope"
      ]
    },
    {
      "cell_type": "code",
      "metadata": {
        "colab": {
          "base_uri": "https://localhost:8080/"
        },
        "id": "W3EXDxrXUFJd",
        "outputId": "162e47d0-9a49-48ea-bb2b-6f11698e15bd"
      },
      "source": [
        "slope = covariance_xy / variance_x\n",
        "print(f'slope : {slope}')"
      ],
      "execution_count": 19,
      "outputs": [
        {
          "output_type": "stream",
          "name": "stdout",
          "text": [
            "slope : 0.976293103448276\n"
          ]
        }
      ]
    },
    {
      "cell_type": "markdown",
      "metadata": {
        "id": "FkLWyzdVUd_L"
      },
      "source": [
        "Mencari Nilai Intercept"
      ]
    },
    {
      "cell_type": "code",
      "metadata": {
        "colab": {
          "base_uri": "https://localhost:8080/"
        },
        "id": "0I95MK_xUgOv",
        "outputId": "d1d4b2c7-bd99-4e0a-cf55-646d723f4066"
      },
      "source": [
        "#nilai intercept dapat diperoleh dari selisih nilai rata-rata target dengan hasil perkalian antara slope dan nilai rata-rata feature\n",
        "intercept = np.mean(y) - slope * np.mean(X)\n",
        "print(f'intercept : {intercept}')"
      ],
      "execution_count": 21,
      "outputs": [
        {
          "output_type": "stream",
          "name": "stdout",
          "text": [
            "intercept : 1.9655172413793096\n"
          ]
        }
      ]
    },
    {
      "cell_type": "markdown",
      "metadata": {
        "id": "Pj_wvFaIVXRQ"
      },
      "source": [
        "Prediksi Harga Pizza"
      ]
    },
    {
      "cell_type": "code",
      "metadata": {
        "colab": {
          "base_uri": "https://localhost:8080/"
        },
        "id": "ch4WIj0UVaUO",
        "outputId": "b16ff05c-b0ff-4c24-9f61-62e701e5297b"
      },
      "source": [
        "diameter_pizza = np.array([12, 20, 23]).reshape(-1,1)\n",
        "diameter_pizza"
      ],
      "execution_count": 23,
      "outputs": [
        {
          "output_type": "execute_result",
          "data": {
            "text/plain": [
              "array([[12],\n",
              "       [20],\n",
              "       [23]])"
            ]
          },
          "metadata": {},
          "execution_count": 23
        }
      ]
    },
    {
      "cell_type": "code",
      "metadata": {
        "colab": {
          "base_uri": "https://localhost:8080/"
        },
        "id": "4cEbqRD-VrAE",
        "outputId": "5c1ba323-644d-40b1-9b78-ebbe57de1233"
      },
      "source": [
        "prediksi_harga = model.predict(diameter_pizza)\n",
        "prediksi_harga"
      ],
      "execution_count": 24,
      "outputs": [
        {
          "output_type": "execute_result",
          "data": {
            "text/plain": [
              "array([13.68103448, 21.49137931, 24.42025862])"
            ]
          },
          "metadata": {},
          "execution_count": 24
        }
      ]
    },
    {
      "cell_type": "code",
      "metadata": {
        "colab": {
          "base_uri": "https://localhost:8080/"
        },
        "id": "IPvZs5fqV4UR",
        "outputId": "029faba2-97bf-4ca2-9d29-c2b96d69896a"
      },
      "source": [
        "for dmtr, hrg in zip(diameter_pizza, prediksi_harga) :\n",
        "  print(f'Diameter : {dmtr} prediksi harga : {hrg}')"
      ],
      "execution_count": 27,
      "outputs": [
        {
          "output_type": "stream",
          "name": "stdout",
          "text": [
            "Diameter : [12] prediksi harga : 13.681034482758621\n",
            "Diameter : [20] prediksi harga : 21.491379310344826\n",
            "Diameter : [23] prediksi harga : 24.42025862068965\n"
          ]
        }
      ]
    }
  ]
}